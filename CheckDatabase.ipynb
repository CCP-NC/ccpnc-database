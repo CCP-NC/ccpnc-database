{
 "cells": [
  {
   "cell_type": "code",
   "execution_count": 58,
   "metadata": {},
   "outputs": [
    {
     "name": "stdout",
     "output_type": "stream",
     "text": [
      "The autoreload extension is already loaded. To reload it, use:\n",
      "  %reload_ext autoreload\n"
     ]
    }
   ],
   "source": [
    "%load_ext autoreload\n",
    "%autoreload 2\n",
    "\n",
    "import json\n",
    "from gridfs import GridFS\n",
    "from flask import Flask\n",
    "from flask_cors import CORS, cross_origin\n",
    "from pymongo import MongoClient\n",
    "from bson.objectid import ObjectId\n",
    "from db_interface import addMagresFile, databaseSearch, removeMagresFiles"
   ]
  },
  {
   "cell_type": "code",
   "execution_count": 9,
   "metadata": {
    "collapsed": true
   },
   "outputs": [],
   "source": [
    "# MAGRES database\n",
    "client = MongoClient(host='wigner.esc.rl.ac.uk')\n",
    "ccpnc = client.ccpnc"
   ]
  },
  {
   "cell_type": "code",
   "execution_count": 35,
   "metadata": {
    "collapsed": true
   },
   "outputs": [],
   "source": [
    "magresFilesFS = GridFS(ccpnc, 'magresFilesFS')"
   ]
  },
  {
   "cell_type": "code",
   "execution_count": 57,
   "metadata": {},
   "outputs": [
    {
     "name": "stdout",
     "output_type": "stream",
     "text": [
      "{u'chemname': u'thingNow', u'metadataID': u'5a6f0c0c3207864b03da1689', u'latest_version': {u'magresFilesID': u'5a6f0c0c3207864b03da168a'}, u'values': [{u'iso': [29.559937639131203, 30.22618664854139, 30.072254456072027, 26.953990818833876, 27.373946759128433, 31.888119371185127], u'species': u'H'}, {u'iso': [156.1229153499832, 109.35753044488325], u'species': u'C'}, {u'iso': [267.0122765992025], u'species': u'O'}], u'orcid': {u'path': u'0000-0003-4851-1144', u'host': u'orcid.org', u'uri': u'http://orcid.org/0000-0003-4851-1144'}, u'formula': [{u'species': u'C', u'n': 2}, {u'species': u'H', u'n': 6}, {u'species': u'O', u'n': 1}], u'_id': ObjectId('5a6f0c0c3207864b03da168c')}\n",
      "{u'chemname': u'thingNow', u'metadataID': u'5a6f0c853207864b03da1691', u'latest_version': {u'magresFilesID': u'5a6f0c853207864b03da1692'}, u'values': [{u'iso': [29.559937639131203, 30.22618664854139, 30.072254456072027, 26.953990818833876, 27.373946759128433, 31.888119371185127], u'species': u'H'}, {u'iso': [156.1229153499832, 109.35753044488325], u'species': u'C'}, {u'iso': [267.0122765992025], u'species': u'O'}], u'orcid': {u'path': u'0000-0003-4851-1144', u'host': u'orcid.org', u'uri': u'http://orcid.org/0000-0003-4851-1144'}, u'formula': [{u'species': u'C', u'n': 2}, {u'species': u'H', u'n': 6}, {u'species': u'O', u'n': 1}], u'_id': ObjectId('5a6f0c853207864b03da1694')}\n",
      "{u'chemname': u'thingNow', u'metadataID': u'5a6f0caf3207864b03da1697', u'latest_version': {u'doi': u'', u'magresFilesID': u'5a6f0caf3207864b03da1698'}, u'values': [{u'iso': [29.559937639131203, 30.22618664854139, 30.072254456072027, 26.953990818833876, 27.373946759128433, 31.888119371185127], u'species': u'H'}, {u'iso': [156.1229153499832, 109.35753044488325], u'species': u'C'}, {u'iso': [267.0122765992025], u'species': u'O'}], u'orcid': {u'path': u'0000-0003-4851-1144', u'host': u'orcid.org', u'uri': u'http://orcid.org/0000-0003-4851-1144'}, u'formula': [{u'species': u'C', u'n': 2}, {u'species': u'H', u'n': 6}, {u'species': u'O', u'n': 1}], u'_id': ObjectId('5a6f0caf3207864b03da169a')}\n"
     ]
    },
    {
     "data": {
      "text/plain": [
       "'[null, null, {\"chemname\": \"thingNow\", \"doi\": \"\"}]'"
      ]
     },
     "execution_count": 57,
     "metadata": {},
     "output_type": "execute_result"
    }
   ],
   "source": [
    "databaseSearch([{'type': 'orcid', 'args': {'orcid': '0000-0003-4851-1144'}}])"
   ]
  },
  {
   "cell_type": "code",
   "execution_count": 48,
   "metadata": {},
   "outputs": [
    {
     "data": {
      "text/plain": [
       "[u'magresFilesFS',\n",
       " u'magresFilesFS.chunks',\n",
       " u'magresData',\n",
       " u'magresIndex',\n",
       " u'magresFilesFS.files',\n",
       " u'magresFiles',\n",
       " u'magresMetadata']"
      ]
     },
     "execution_count": 48,
     "metadata": {},
     "output_type": "execute_result"
    }
   ],
   "source": [
    "ccpnc.collection_names()"
   ]
  },
  {
   "cell_type": "code",
   "execution_count": 81,
   "metadata": {},
   "outputs": [
    {
     "data": {
      "text/plain": [
       "1"
      ]
     },
     "execution_count": 81,
     "metadata": {},
     "output_type": "execute_result"
    }
   ],
   "source": [
    "mfile = open('tests/ethanol.magres').read()\n",
    "addMagresFile(mfile, chemname='thingNow', orcid={u'path': u'0000-0003-4851-1144', u'host': u'orcid.org', u'uri': u'http://orcid.org/0000-0003-4851-1144'})"
   ]
  },
  {
   "cell_type": "code",
   "execution_count": 25,
   "metadata": {
    "collapsed": true
   },
   "outputs": [],
   "source": [
    "def findById(fileID):\n",
    "    return ccpnc.magresFiles.find({'_id': ObjectId(fileID)})"
   ]
  },
  {
   "cell_type": "code",
   "execution_count": 75,
   "metadata": {
    "scrolled": false
   },
   "outputs": [],
   "source": [
    "ff = ccpnc.magresIndex.find({\"chemname\": \"thingNow\"})\n",
    "# Get the first magres file in the query\n",
    "mfiles = []\n",
    "for f in ff:\n",
    "    print f['_id']\n",
    "    print ccpnc.magresMetadata.find({'_id': ObjectId(f['metadataID'])}).next()"
   ]
  },
  {
   "cell_type": "code",
   "execution_count": 76,
   "metadata": {},
   "outputs": [],
   "source": [
    "for f in ccpnc.magresIndex.find({'_id': ObjectId('5a6f0c0c3207864b03da168c')}):\n",
    "    print f"
   ]
  },
  {
   "cell_type": "code",
   "execution_count": 79,
   "metadata": {},
   "outputs": [
    {
     "ename": "RuntimeError",
     "evalue": "No entry with that id found",
     "output_type": "error",
     "traceback": [
      "\u001b[0;31m---------------------------------------------------------------------------\u001b[0m",
      "\u001b[0;31mRuntimeError\u001b[0m                              Traceback (most recent call last)",
      "\u001b[0;32m<ipython-input-79-371f9cb0fb37>\u001b[0m in \u001b[0;36m<module>\u001b[0;34m()\u001b[0m\n\u001b[0;32m----> 1\u001b[0;31m \u001b[0mremoveMagresFiles\u001b[0m\u001b[0;34m(\u001b[0m\u001b[0;34m'5a6f0caf3207864b03da169a'\u001b[0m\u001b[0;34m)\u001b[0m\u001b[0;34m\u001b[0m\u001b[0m\n\u001b[0m",
      "\u001b[0;32m/home/wml08325/Desktop/WebDevel/ccpnc-database/db_interface.py\u001b[0m in \u001b[0;36mremoveMagresFiles\u001b[0;34m(index_id)\u001b[0m\n\u001b[1;32m    137\u001b[0m         \u001b[0mindex_entry\u001b[0m \u001b[0;34m=\u001b[0m \u001b[0mmagresIndex\u001b[0m\u001b[0;34m.\u001b[0m\u001b[0mfind\u001b[0m\u001b[0;34m(\u001b[0m\u001b[0;34m{\u001b[0m\u001b[0;34m'_id'\u001b[0m\u001b[0;34m:\u001b[0m \u001b[0mObjectId\u001b[0m\u001b[0;34m(\u001b[0m\u001b[0mindex_id\u001b[0m\u001b[0;34m)\u001b[0m\u001b[0;34m}\u001b[0m\u001b[0;34m)\u001b[0m\u001b[0;34m.\u001b[0m\u001b[0mnext\u001b[0m\u001b[0;34m(\u001b[0m\u001b[0;34m)\u001b[0m\u001b[0;34m\u001b[0m\u001b[0m\n\u001b[1;32m    138\u001b[0m     \u001b[0;32mexcept\u001b[0m \u001b[0mStopIteration\u001b[0m\u001b[0;34m:\u001b[0m\u001b[0;34m\u001b[0m\u001b[0m\n\u001b[0;32m--> 139\u001b[0;31m         \u001b[0;32mraise\u001b[0m \u001b[0mRuntimeError\u001b[0m\u001b[0;34m(\u001b[0m\u001b[0;34m'No entry with that id found'\u001b[0m\u001b[0;34m)\u001b[0m\u001b[0;34m\u001b[0m\u001b[0m\n\u001b[0m\u001b[1;32m    140\u001b[0m     \u001b[0;31m# Find metadata\u001b[0m\u001b[0;34m\u001b[0m\u001b[0;34m\u001b[0m\u001b[0m\n\u001b[1;32m    141\u001b[0m     mdata_entry = magresMetadata.find({'_id':\n",
      "\u001b[0;31mRuntimeError\u001b[0m: No entry with that id found"
     ]
    }
   ],
   "source": [
    "removeMagresFiles('5a6f0caf3207864b03da169a')"
   ]
  },
  {
   "cell_type": "code",
   "execution_count": 38,
   "metadata": {},
   "outputs": [
    {
     "name": "stdout",
     "output_type": "stream",
     "text": [
      "[{u'magresFilesID': ObjectId('5a6b61930c81be53f30a4470')}]\n"
     ]
    }
   ],
   "source": [
    "ff = ccpnc.magresMetadata.find({\"chemname\": \"thingNow\"})\n",
    "\n",
    "for f in ff:\n",
    "    print f['version_history']"
   ]
  },
  {
   "cell_type": "code",
   "execution_count": 19,
   "metadata": {},
   "outputs": [
    {
     "name": "stdout",
     "output_type": "stream",
     "text": [
      "{u'path': u'0000-0003-4851-1144', u'host': u'orcid.org', u'uri': u'http://orcid.org/0000-0003-4851-1144'}\n",
      "{u'path': u'0000-0003-4851-1144', u'host': u'orcid.org', u'uri': u'http://orcid.org/0000-0003-4851-1144'}\n",
      "{u'path': u'0000-0003-4851-1144', u'host': u'orcid.org', u'uri': u'http://orcid.org/0000-0003-4851-1144'}\n",
      "{u'path': u'0000-0003-4851-1144', u'host': u'orcid.org', u'uri': u'http://orcid.org/0000-0003-4851-1144'}\n"
     ]
    }
   ],
   "source": [
    "ff = ccpnc.magresData.find({\"orcid.path\": \"0000-0003-4851-1144\"})\n",
    "for f in ff:\n",
    "    print f['orcid']"
   ]
  },
  {
   "cell_type": "code",
   "execution_count": 6,
   "metadata": {
    "collapsed": true
   },
   "outputs": [],
   "source": [
    "from db_schema import magresDataSchema"
   ]
  },
  {
   "cell_type": "code",
   "execution_count": 12,
   "metadata": {},
   "outputs": [
    {
     "data": {
      "text/plain": [
       "{u'chemname': u'Ethanol (additional file)',\n",
       " 'csd-ref': {'digits': '01', 'refcode': 'C6H6OH'},\n",
       " u'doi': u'10.0001',\n",
       " u'orcid': {u'host': u'orcid.org',\n",
       "  u'path': u'0000-0003-4851-1144',\n",
       "  u'uri': u'http://orcid.org/0000-0003-4851-1144'},\n",
       " u'values': [{u'iso': [29.559937639131203,\n",
       "    30.22618664854139,\n",
       "    30.072254456072027,\n",
       "    26.953990818833876,\n",
       "    27.373946759128433,\n",
       "    31.888119371185127],\n",
       "   u'species': u'H'},\n",
       "  {u'iso': [156.1229153499832, 109.35753044488325], u'species': u'C'},\n",
       "  {u'iso': [267.0122765992025], u'species': u'O'}]}"
      ]
     },
     "execution_count": 12,
     "metadata": {},
     "output_type": "execute_result"
    }
   ],
   "source": [
    "d = f.copy()\n",
    "del d['_id']\n",
    "del d['magresFilesID']\n",
    "\n",
    "d['csd-ref'] = {\n",
    "    'refcode': 'C6H6OH',\n",
    "    'digits': '01'\n",
    "}\n",
    "\n",
    "magresDataSchema.validate(d)"
   ]
  },
  {
   "cell_type": "code",
   "execution_count": 8,
   "metadata": {
    "collapsed": true
   },
   "outputs": [],
   "source": [
    "import re"
   ]
  },
  {
   "cell_type": "code",
   "execution_count": 9,
   "metadata": {
    "collapsed": true
   },
   "outputs": [],
   "source": [
    "myre = re.compile('[0-9]{2}\\Z')"
   ]
  },
  {
   "cell_type": "code",
   "execution_count": 10,
   "metadata": {},
   "outputs": [
    {
     "data": {
      "text/plain": [
       "<_sre.SRE_Match at 0x7f3b280f3098>"
      ]
     },
     "execution_count": 10,
     "metadata": {},
     "output_type": "execute_result"
    }
   ],
   "source": [
    "myre.match('34')"
   ]
  },
  {
   "cell_type": "code",
   "execution_count": null,
   "metadata": {
    "collapsed": true
   },
   "outputs": [],
   "source": []
  }
 ],
 "metadata": {
  "kernelspec": {
   "display_name": "Python 2",
   "language": "python",
   "name": "python2"
  },
  "language_info": {
   "codemirror_mode": {
    "name": "ipython",
    "version": 2
   },
   "file_extension": ".py",
   "mimetype": "text/x-python",
   "name": "python",
   "nbconvert_exporter": "python",
   "pygments_lexer": "ipython2",
   "version": "2.7.13"
  }
 },
 "nbformat": 4,
 "nbformat_minor": 2
}
