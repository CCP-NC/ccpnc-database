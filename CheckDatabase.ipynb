{
 "cells": [
  {
   "cell_type": "code",
   "execution_count": 45,
   "metadata": {},
   "outputs": [
    {
     "name": "stdout",
     "output_type": "stream",
     "text": [
      "The autoreload extension is already loaded. To reload it, use:\n",
      "  %reload_ext autoreload\n"
     ]
    }
   ],
   "source": [
    "%load_ext autoreload\n",
    "%autoreload 2\n",
    "\n",
    "import json\n",
    "import re\n",
    "from datetime import datetime\n",
    "from gridfs import GridFS, NoFile\n",
    "from pymongo import MongoClient\n",
    "from bson.objectid import ObjectId\n",
    "from db_interface import addMagresFile, databaseSearch, removeMagresFiles, editMagresFile\n",
    "from db_schema import magresVersionSchema"
   ]
  },
  {
   "cell_type": "code",
   "execution_count": 46,
   "metadata": {},
   "outputs": [
    {
     "data": {
      "text/plain": [
       "['csd-num', 'csd-ref', 'doi', 'notes']"
      ]
     },
     "execution_count": 46,
     "metadata": {},
     "output_type": "execute_result"
    }
   ],
   "source": [
    "opt_re = re.compile('Optional\\(\\'([a-zA-Z\\-]+)\\'\\)')\n",
    "[opt_re.match(str(k)).groups()[0] for k in magresVersionSchema._schema.keys() if opt_re.match(str(k)) != None]"
   ]
  },
  {
   "cell_type": "code",
   "execution_count": 47,
   "metadata": {
    "collapsed": true
   },
   "outputs": [],
   "source": [
    "# MAGRES database\n",
    "host = 'wigner.esc.rl.ac.uk'\n",
    "#host = 'www.ccpnc.ac.uk'\n",
    "\n",
    "client = MongoClient(host=host, port=27017)\n",
    "ccpnc = client.ccpnc"
   ]
  },
  {
   "cell_type": "code",
   "execution_count": 48,
   "metadata": {},
   "outputs": [
    {
     "data": {
      "text/plain": [
       "'\"2018-10-12 12:07:06.517413\"'"
      ]
     },
     "execution_count": 48,
     "metadata": {},
     "output_type": "execute_result"
    }
   ],
   "source": [
    "json.dumps(datetime.now(), default=str)"
   ]
  },
  {
   "cell_type": "code",
   "execution_count": 49,
   "metadata": {
    "collapsed": true
   },
   "outputs": [],
   "source": [
    "for f in ccpnc.test.find({'x': 5}):\n",
    "    print f"
   ]
  },
  {
   "cell_type": "code",
   "execution_count": 50,
   "metadata": {
    "collapsed": true
   },
   "outputs": [],
   "source": [
    "magresMdata = ccpnc.magresMetadata"
   ]
  },
  {
   "cell_type": "code",
   "execution_count": 51,
   "metadata": {
    "collapsed": true
   },
   "outputs": [],
   "source": [
    "magresIndex = ccpnc.magresIndex"
   ]
  },
  {
   "cell_type": "code",
   "execution_count": 85,
   "metadata": {},
   "outputs": [
    {
     "data": {
      "text/plain": [
       "[{u'n': 2, u'species': u'C'},\n",
       " {u'n': 6, u'species': u'H'},\n",
       " {u'n': 1, u'species': u'O'}]"
      ]
     },
     "execution_count": 85,
     "metadata": {},
     "output_type": "execute_result"
    }
   ],
   "source": [
    "magresIndex.find_one({'chemname': 'Eth_molecules'})['stochiometry']"
   ]
  },
  {
   "cell_type": "code",
   "execution_count": 84,
   "metadata": {},
   "outputs": [],
   "source": [
    "for m in magresIndex.find({'$and': [{'stochiometry': [(u'C', 2), (u'H', 6), (u'O', 1)]}]}):\n",
    "    print m"
   ]
  },
  {
   "cell_type": "code",
   "execution_count": null,
   "metadata": {
    "collapsed": true
   },
   "outputs": [],
   "source": []
  },
  {
   "cell_type": "code",
   "execution_count": 9,
   "metadata": {},
   "outputs": [
    {
     "name": "stdout",
     "output_type": "stream",
     "text": [
      "5a71e12a0c81be3fcf3ac179\n",
      "[{u'date': datetime.datetime(2018, 1, 31, 15, 30, 49, 989000), u'doi': u'10.0001', u'magresFilesID': u'5a71e12a0c81be3fcf3ac177'}, {u'date': datetime.datetime(2018, 3, 8, 15, 8, 33, 557000), u'doi': u'10.00012', u'magresFilesID': u'5a71e12a0c81be3fcf3ac177'}, {u'date': datetime.datetime(2018, 3, 8, 15, 40, 20, 767000), u'doi': u'10.00012', u'magresFilesID': u'5aa159643207863732c98936'}, {u'date': datetime.datetime(2018, 3, 8, 15, 46, 56, 109000), u'doi': u'10.00015', u'magresFilesID': u'5aa15af03207863732c9893c'}, {u'date': datetime.datetime(2018, 3, 8, 16, 6, 24, 215000), u'doi': u'thing', u'magresFilesID': u'5aa15f803207863732c98953'}]\n",
      "5a71e1530c81be3fcf3ac17f\n",
      "[{u'date': datetime.datetime(2018, 1, 31, 15, 31, 31, 89000), u'doi': u'10.0002', u'magresFilesID': u'5a71e1530c81be3fcf3ac17d'}]\n",
      "5a746e080c81be236bff2994\n",
      "[{u'date': datetime.datetime(2018, 2, 2, 13, 56, 24, 292000), u'doi': u'10.0001', u'magresFilesID': u'5a746e080c81be236bff2992'}]\n",
      "5aa13de33207861d13ab2ac4\n",
      "[{u'date': datetime.datetime(2018, 3, 8, 13, 42, 59, 502000), u'doi': u'', u'magresFilesID': u'5aa13de33207861d13ab2ac2'}, {u'date': datetime.datetime(2018, 3, 8, 15, 5, 58, 578000), u'doi': u'10.00012', u'magresFilesID': u'5aa13de33207861d13ab2ac2'}, {u'date': datetime.datetime(2018, 3, 8, 15, 6, 21, 311000), u'doi': u'10.00013', u'magresFilesID': u'5aa13de33207861d13ab2ac2'}, {u'date': datetime.datetime(2018, 3, 8, 15, 6, 55, 324000), u'doi': u'10.0002', u'magresFilesID': u'5aa13de33207861d13ab2ac2'}]\n",
      "5b7c09b021961f1df46b9ade\n",
      "[{u'date': datetime.datetime(2018, 8, 21, 12, 46, 40, 15000), u'doi': u'66', u'magresFilesID': u'5b7c09b021961f1df46b9adc'}]\n",
      "5b86ae2b21961f333dd2f043\n",
      "[{u'date': datetime.datetime(2018, 8, 29, 14, 31, 7, 747000), u'magresFilesID': u'5b86ae2b21961f333dd2f041'}]\n",
      "5b86b7e421961f55c1dbc2bc\n",
      "[{u'date': datetime.datetime(2018, 8, 29, 15, 12, 36, 831000), u'magresFilesID': u'5b86b7e421961f55c1dbc2ba'}]\n",
      "5b86b7e421961f55c1dbc2c1\n",
      "[{u'date': datetime.datetime(2018, 8, 29, 15, 12, 36, 842000), u'magresFilesID': u'5b86b7e421961f55c1dbc2bf'}]\n",
      "5b86b8d021961f564625fa7d\n",
      "[{u'date': datetime.datetime(2018, 8, 29, 15, 16, 32, 746000), u'magresFilesID': u'5b86b8d021961f564625fa7b'}]\n",
      "5b86b8d021961f564625fa82\n",
      "[{u'date': datetime.datetime(2018, 8, 29, 15, 16, 32, 757000), u'magresFilesID': u'5b86b8d021961f564625fa80'}]\n",
      "5b87b6e821961f80d5215157\n",
      "[{u'date': datetime.datetime(2018, 8, 30, 9, 20, 40, 712000), u'magresFilesID': u'5b87b6e821961f80d5215155'}]\n",
      "5b8d5f833207867c16b32d0c\n",
      "[{u'date': datetime.datetime(2018, 9, 3, 16, 21, 23, 28000), u'magresFilesID': u'5b8d5f833207867c16b32d0a'}]\n",
      "5bbdd29632078657b08b7c73\n",
      "[{u'date': datetime.datetime(2018, 10, 10, 10, 21, 10, 333000), u'magresFilesID': u'5bbdd29632078657b08b7c71'}]\n",
      "5bbdd2b0320786585e1f7afc\n",
      "[{u'date': datetime.datetime(2018, 10, 10, 10, 21, 36, 712000), u'magresFilesID': u'5bbdd2b0320786585e1f7afa'}]\n",
      "5bbdf53c3207860821d0cd46\n",
      "[{u'date': datetime.datetime(2018, 10, 10, 12, 49, 0, 773000), u'magresFilesID': u'5bbdf53c3207860821d0cd44'}]\n"
     ]
    }
   ],
   "source": [
    "for f in magresIndex.find({}):\n",
    "    print f['_id']\n",
    "    print magresMdata.find({'_id': ObjectId(f['metadataID'])}).next()['version_history']"
   ]
  },
  {
   "cell_type": "code",
   "execution_count": 30,
   "metadata": {},
   "outputs": [
    {
     "name": "stdout",
     "output_type": "stream",
     "text": [
      "TestOne\n",
      "TestDOI\n"
     ]
    }
   ],
   "source": [
    "reg = re.compile('Test')\n",
    "for f in ccpnc.magresIndex.find({'$and': [{'chemname': {'$regex': reg}}]}):\n",
    "    print f['chemname']"
   ]
  },
  {
   "cell_type": "code",
   "execution_count": 17,
   "metadata": {},
   "outputs": [
    {
     "name": "stdout",
     "output_type": "stream",
     "text": [
      "2018-01-31 14:51:14.696000\n",
      "2018-01-31 14:51:22.835000\n"
     ]
    }
   ],
   "source": [
    "for f in magresMdata.find({'thing': 'date'}):\n",
    "    print f['date']"
   ]
  },
  {
   "cell_type": "code",
   "execution_count": 25,
   "metadata": {
    "collapsed": true
   },
   "outputs": [],
   "source": [
    "magresFilesFS = GridFS(ccpnc, 'magresFilesFS')"
   ]
  },
  {
   "cell_type": "code",
   "execution_count": 5,
   "metadata": {},
   "outputs": [
    {
     "ename": "NoFile",
     "evalue": "no file in gridfs collection Collection(Database(MongoClient(host=['wigner.esc.rl.ac.uk:27017'], document_class=dict, tz_aware=False, connect=True), u'ccpnc'), u'magresFilesFS.files') with _id ObjectId('5a6f0c0c3207864b03da169a')",
     "output_type": "error",
     "traceback": [
      "\u001b[1;31m---------------------------------------------------------------------------\u001b[0m",
      "\u001b[1;31mNoFile\u001b[0m                                    Traceback (most recent call last)",
      "\u001b[1;32m<ipython-input-5-0f73f2df850a>\u001b[0m in \u001b[0;36m<module>\u001b[1;34m()\u001b[0m\n\u001b[1;32m----> 1\u001b[1;33m \u001b[0mgf\u001b[0m \u001b[1;33m=\u001b[0m \u001b[0mmagresFilesFS\u001b[0m\u001b[1;33m.\u001b[0m\u001b[0mget\u001b[0m\u001b[1;33m(\u001b[0m\u001b[0mObjectId\u001b[0m\u001b[1;33m(\u001b[0m\u001b[1;34m'5a6f0c0c3207864b03da169a'\u001b[0m\u001b[1;33m)\u001b[0m\u001b[1;33m)\u001b[0m\u001b[1;33m\u001b[0m\u001b[0m\n\u001b[0m",
      "\u001b[1;32m/home/phony_stark/miniconda2/lib/python2.7/site-packages/gridfs/__init__.pyc\u001b[0m in \u001b[0;36mget\u001b[1;34m(self, file_id)\u001b[0m\n\u001b[0;32m    138\u001b[0m \u001b[1;33m\u001b[0m\u001b[0m\n\u001b[0;32m    139\u001b[0m         \u001b[1;31m# Raise NoFile now, instead of on first attribute access.\u001b[0m\u001b[1;33m\u001b[0m\u001b[1;33m\u001b[0m\u001b[0m\n\u001b[1;32m--> 140\u001b[1;33m         \u001b[0mgout\u001b[0m\u001b[1;33m.\u001b[0m\u001b[0m_ensure_file\u001b[0m\u001b[1;33m(\u001b[0m\u001b[1;33m)\u001b[0m\u001b[1;33m\u001b[0m\u001b[0m\n\u001b[0m\u001b[0;32m    141\u001b[0m         \u001b[1;32mreturn\u001b[0m \u001b[0mgout\u001b[0m\u001b[1;33m\u001b[0m\u001b[0m\n\u001b[0;32m    142\u001b[0m \u001b[1;33m\u001b[0m\u001b[0m\n",
      "\u001b[1;32m/home/phony_stark/miniconda2/lib/python2.7/site-packages/gridfs/grid_file.pyc\u001b[0m in \u001b[0;36m_ensure_file\u001b[1;34m(self)\u001b[0m\n\u001b[0;32m    433\u001b[0m             \u001b[1;32mif\u001b[0m \u001b[1;32mnot\u001b[0m \u001b[0mself\u001b[0m\u001b[1;33m.\u001b[0m\u001b[0m_file\u001b[0m\u001b[1;33m:\u001b[0m\u001b[1;33m\u001b[0m\u001b[0m\n\u001b[0;32m    434\u001b[0m                 raise NoFile(\"no file in gridfs collection %r with _id %r\" %\n\u001b[1;32m--> 435\u001b[1;33m                              (self.__files, self.__file_id))\n\u001b[0m\u001b[0;32m    436\u001b[0m \u001b[1;33m\u001b[0m\u001b[0m\n\u001b[0;32m    437\u001b[0m     \u001b[1;32mdef\u001b[0m \u001b[0m__getattr__\u001b[0m\u001b[1;33m(\u001b[0m\u001b[0mself\u001b[0m\u001b[1;33m,\u001b[0m \u001b[0mname\u001b[0m\u001b[1;33m)\u001b[0m\u001b[1;33m:\u001b[0m\u001b[1;33m\u001b[0m\u001b[0m\n",
      "\u001b[1;31mNoFile\u001b[0m: no file in gridfs collection Collection(Database(MongoClient(host=['wigner.esc.rl.ac.uk:27017'], document_class=dict, tz_aware=False, connect=True), u'ccpnc'), u'magresFilesFS.files') with _id ObjectId('5a6f0c0c3207864b03da169a')"
     ]
    }
   ],
   "source": [
    "gf = magresFilesFS.get(ObjectId('5a6f0c0c3207864b03da169a'))"
   ]
  },
  {
   "cell_type": "code",
   "execution_count": 6,
   "metadata": {},
   "outputs": [
    {
     "ename": "TypeError",
     "evalue": "datetime.datetime(2018, 1, 31, 14, 42, 6, 117000) is not JSON serializable",
     "output_type": "error",
     "traceback": [
      "\u001b[1;31m---------------------------------------------------------------------------\u001b[0m",
      "\u001b[1;31mTypeError\u001b[0m                                 Traceback (most recent call last)",
      "\u001b[1;32m<ipython-input-6-5e080e71b8f6>\u001b[0m in \u001b[0;36m<module>\u001b[1;34m()\u001b[0m\n\u001b[1;32m----> 1\u001b[1;33m \u001b[0mdatabaseSearch\u001b[0m\u001b[1;33m(\u001b[0m\u001b[1;33m[\u001b[0m\u001b[1;33m{\u001b[0m\u001b[1;34m'type'\u001b[0m\u001b[1;33m:\u001b[0m \u001b[1;34m'orcid'\u001b[0m\u001b[1;33m,\u001b[0m \u001b[1;34m'args'\u001b[0m\u001b[1;33m:\u001b[0m \u001b[1;33m{\u001b[0m\u001b[1;34m'orcid'\u001b[0m\u001b[1;33m:\u001b[0m \u001b[1;34m'0000-0003-4851-1144'\u001b[0m\u001b[1;33m}\u001b[0m\u001b[1;33m}\u001b[0m\u001b[1;33m]\u001b[0m\u001b[1;33m)\u001b[0m\u001b[1;33m\u001b[0m\u001b[0m\n\u001b[0m",
      "\u001b[1;32m/home/phony_stark/Desktop/RAL/ccpnc-database/db_interface.py\u001b[0m in \u001b[0;36mdatabaseSearch\u001b[1;34m(search_spec)\u001b[0m\n\u001b[0;32m    256\u001b[0m \u001b[1;33m\u001b[0m\u001b[0m\n\u001b[0;32m    257\u001b[0m     return json.dumps([makeEntry(ind, meta)\n\u001b[1;32m--> 258\u001b[1;33m                        for ind, meta in results])\n\u001b[0m\u001b[0;32m    259\u001b[0m \u001b[1;33m\u001b[0m\u001b[0m\n\u001b[0;32m    260\u001b[0m \u001b[1;31m# Specific search functions\u001b[0m\u001b[1;33m\u001b[0m\u001b[1;33m\u001b[0m\u001b[0m\n",
      "\u001b[1;32m/home/phony_stark/miniconda2/lib/python2.7/json/__init__.pyc\u001b[0m in \u001b[0;36mdumps\u001b[1;34m(obj, skipkeys, ensure_ascii, check_circular, allow_nan, cls, indent, separators, encoding, default, sort_keys, **kw)\u001b[0m\n\u001b[0;32m    242\u001b[0m         \u001b[0mcls\u001b[0m \u001b[1;32mis\u001b[0m \u001b[0mNone\u001b[0m \u001b[1;32mand\u001b[0m \u001b[0mindent\u001b[0m \u001b[1;32mis\u001b[0m \u001b[0mNone\u001b[0m \u001b[1;32mand\u001b[0m \u001b[0mseparators\u001b[0m \u001b[1;32mis\u001b[0m \u001b[0mNone\u001b[0m \u001b[1;32mand\u001b[0m\u001b[1;33m\u001b[0m\u001b[0m\n\u001b[0;32m    243\u001b[0m         encoding == 'utf-8' and default is None and not sort_keys and not kw):\n\u001b[1;32m--> 244\u001b[1;33m         \u001b[1;32mreturn\u001b[0m \u001b[0m_default_encoder\u001b[0m\u001b[1;33m.\u001b[0m\u001b[0mencode\u001b[0m\u001b[1;33m(\u001b[0m\u001b[0mobj\u001b[0m\u001b[1;33m)\u001b[0m\u001b[1;33m\u001b[0m\u001b[0m\n\u001b[0m\u001b[0;32m    245\u001b[0m     \u001b[1;32mif\u001b[0m \u001b[0mcls\u001b[0m \u001b[1;32mis\u001b[0m \u001b[0mNone\u001b[0m\u001b[1;33m:\u001b[0m\u001b[1;33m\u001b[0m\u001b[0m\n\u001b[0;32m    246\u001b[0m         \u001b[0mcls\u001b[0m \u001b[1;33m=\u001b[0m \u001b[0mJSONEncoder\u001b[0m\u001b[1;33m\u001b[0m\u001b[0m\n",
      "\u001b[1;32m/home/phony_stark/miniconda2/lib/python2.7/json/encoder.pyc\u001b[0m in \u001b[0;36mencode\u001b[1;34m(self, o)\u001b[0m\n\u001b[0;32m    205\u001b[0m         \u001b[1;31m# exceptions aren't as detailed.  The list call should be roughly\u001b[0m\u001b[1;33m\u001b[0m\u001b[1;33m\u001b[0m\u001b[0m\n\u001b[0;32m    206\u001b[0m         \u001b[1;31m# equivalent to the PySequence_Fast that ''.join() would do.\u001b[0m\u001b[1;33m\u001b[0m\u001b[1;33m\u001b[0m\u001b[0m\n\u001b[1;32m--> 207\u001b[1;33m         \u001b[0mchunks\u001b[0m \u001b[1;33m=\u001b[0m \u001b[0mself\u001b[0m\u001b[1;33m.\u001b[0m\u001b[0miterencode\u001b[0m\u001b[1;33m(\u001b[0m\u001b[0mo\u001b[0m\u001b[1;33m,\u001b[0m \u001b[0m_one_shot\u001b[0m\u001b[1;33m=\u001b[0m\u001b[0mTrue\u001b[0m\u001b[1;33m)\u001b[0m\u001b[1;33m\u001b[0m\u001b[0m\n\u001b[0m\u001b[0;32m    208\u001b[0m         \u001b[1;32mif\u001b[0m \u001b[1;32mnot\u001b[0m \u001b[0misinstance\u001b[0m\u001b[1;33m(\u001b[0m\u001b[0mchunks\u001b[0m\u001b[1;33m,\u001b[0m \u001b[1;33m(\u001b[0m\u001b[0mlist\u001b[0m\u001b[1;33m,\u001b[0m \u001b[0mtuple\u001b[0m\u001b[1;33m)\u001b[0m\u001b[1;33m)\u001b[0m\u001b[1;33m:\u001b[0m\u001b[1;33m\u001b[0m\u001b[0m\n\u001b[0;32m    209\u001b[0m             \u001b[0mchunks\u001b[0m \u001b[1;33m=\u001b[0m \u001b[0mlist\u001b[0m\u001b[1;33m(\u001b[0m\u001b[0mchunks\u001b[0m\u001b[1;33m)\u001b[0m\u001b[1;33m\u001b[0m\u001b[0m\n",
      "\u001b[1;32m/home/phony_stark/miniconda2/lib/python2.7/json/encoder.pyc\u001b[0m in \u001b[0;36miterencode\u001b[1;34m(self, o, _one_shot)\u001b[0m\n\u001b[0;32m    268\u001b[0m                 \u001b[0mself\u001b[0m\u001b[1;33m.\u001b[0m\u001b[0mkey_separator\u001b[0m\u001b[1;33m,\u001b[0m \u001b[0mself\u001b[0m\u001b[1;33m.\u001b[0m\u001b[0mitem_separator\u001b[0m\u001b[1;33m,\u001b[0m \u001b[0mself\u001b[0m\u001b[1;33m.\u001b[0m\u001b[0msort_keys\u001b[0m\u001b[1;33m,\u001b[0m\u001b[1;33m\u001b[0m\u001b[0m\n\u001b[0;32m    269\u001b[0m                 self.skipkeys, _one_shot)\n\u001b[1;32m--> 270\u001b[1;33m         \u001b[1;32mreturn\u001b[0m \u001b[0m_iterencode\u001b[0m\u001b[1;33m(\u001b[0m\u001b[0mo\u001b[0m\u001b[1;33m,\u001b[0m \u001b[1;36m0\u001b[0m\u001b[1;33m)\u001b[0m\u001b[1;33m\u001b[0m\u001b[0m\n\u001b[0m\u001b[0;32m    271\u001b[0m \u001b[1;33m\u001b[0m\u001b[0m\n\u001b[0;32m    272\u001b[0m def _make_iterencode(markers, _default, _encoder, _indent, _floatstr,\n",
      "\u001b[1;32m/home/phony_stark/miniconda2/lib/python2.7/json/encoder.pyc\u001b[0m in \u001b[0;36mdefault\u001b[1;34m(self, o)\u001b[0m\n\u001b[0;32m    182\u001b[0m \u001b[1;33m\u001b[0m\u001b[0m\n\u001b[0;32m    183\u001b[0m         \"\"\"\n\u001b[1;32m--> 184\u001b[1;33m         \u001b[1;32mraise\u001b[0m \u001b[0mTypeError\u001b[0m\u001b[1;33m(\u001b[0m\u001b[0mrepr\u001b[0m\u001b[1;33m(\u001b[0m\u001b[0mo\u001b[0m\u001b[1;33m)\u001b[0m \u001b[1;33m+\u001b[0m \u001b[1;34m\" is not JSON serializable\"\u001b[0m\u001b[1;33m)\u001b[0m\u001b[1;33m\u001b[0m\u001b[0m\n\u001b[0m\u001b[0;32m    185\u001b[0m \u001b[1;33m\u001b[0m\u001b[0m\n\u001b[0;32m    186\u001b[0m     \u001b[1;32mdef\u001b[0m \u001b[0mencode\u001b[0m\u001b[1;33m(\u001b[0m\u001b[0mself\u001b[0m\u001b[1;33m,\u001b[0m \u001b[0mo\u001b[0m\u001b[1;33m)\u001b[0m\u001b[1;33m:\u001b[0m\u001b[1;33m\u001b[0m\u001b[0m\n",
      "\u001b[1;31mTypeError\u001b[0m: datetime.datetime(2018, 1, 31, 14, 42, 6, 117000) is not JSON serializable"
     ]
    }
   ],
   "source": [
    "databaseSearch([{'type': 'orcid', 'args': {'orcid': '0000-0003-4851-1144'}}])"
   ]
  },
  {
   "cell_type": "code",
   "execution_count": 48,
   "metadata": {},
   "outputs": [
    {
     "data": {
      "text/plain": [
       "[u'magresFilesFS',\n",
       " u'magresFilesFS.chunks',\n",
       " u'magresData',\n",
       " u'magresIndex',\n",
       " u'magresFilesFS.files',\n",
       " u'magresFiles',\n",
       " u'magresMetadata']"
      ]
     },
     "execution_count": 48,
     "metadata": {},
     "output_type": "execute_result"
    }
   ],
   "source": [
    "ccpnc.collection_names()"
   ]
  },
  {
   "cell_type": "code",
   "execution_count": 81,
   "metadata": {},
   "outputs": [
    {
     "data": {
      "text/plain": [
       "1"
      ]
     },
     "execution_count": 81,
     "metadata": {},
     "output_type": "execute_result"
    }
   ],
   "source": [
    "mfile = open('tests/ethanol.magres').read()\n",
    "addMagresFile(mfile, chemname='thingNow', orcid={u'path': u'0000-0003-4851-1144', u'host': u'orcid.org', u'uri': u'http://orcid.org/0000-0003-4851-1144'})"
   ]
  },
  {
   "cell_type": "code",
   "execution_count": 25,
   "metadata": {
    "collapsed": true
   },
   "outputs": [],
   "source": [
    "def findById(fileID):\n",
    "    return ccpnc.magresFiles.find({'_id': ObjectId(fileID)})"
   ]
  },
  {
   "cell_type": "code",
   "execution_count": 75,
   "metadata": {
    "collapsed": true,
    "scrolled": false
   },
   "outputs": [],
   "source": [
    "ff = ccpnc.magresIndex.find({\"chemname\": \"thingNow\"})\n",
    "# Get the first magres file in the query\n",
    "mfiles = []\n",
    "for f in ff:\n",
    "    print f['_id']\n",
    "    print ccpnc.magresMetadata.find({'_id': ObjectId(f['metadataID'])}).next()"
   ]
  },
  {
   "cell_type": "code",
   "execution_count": 76,
   "metadata": {
    "collapsed": true
   },
   "outputs": [],
   "source": [
    "for f in ccpnc.magresIndex.find({'_id': ObjectId('5a6f0c0c3207864b03da168c')}):\n",
    "    print f"
   ]
  },
  {
   "cell_type": "code",
   "execution_count": 79,
   "metadata": {},
   "outputs": [
    {
     "ename": "RuntimeError",
     "evalue": "No entry with that id found",
     "output_type": "error",
     "traceback": [
      "\u001b[0;31m---------------------------------------------------------------------------\u001b[0m",
      "\u001b[0;31mRuntimeError\u001b[0m                              Traceback (most recent call last)",
      "\u001b[0;32m<ipython-input-79-371f9cb0fb37>\u001b[0m in \u001b[0;36m<module>\u001b[0;34m()\u001b[0m\n\u001b[0;32m----> 1\u001b[0;31m \u001b[0mremoveMagresFiles\u001b[0m\u001b[0;34m(\u001b[0m\u001b[0;34m'5a6f0caf3207864b03da169a'\u001b[0m\u001b[0;34m)\u001b[0m\u001b[0;34m\u001b[0m\u001b[0m\n\u001b[0m",
      "\u001b[0;32m/home/wml08325/Desktop/WebDevel/ccpnc-database/db_interface.py\u001b[0m in \u001b[0;36mremoveMagresFiles\u001b[0;34m(index_id)\u001b[0m\n\u001b[1;32m    137\u001b[0m         \u001b[0mindex_entry\u001b[0m \u001b[0;34m=\u001b[0m \u001b[0mmagresIndex\u001b[0m\u001b[0;34m.\u001b[0m\u001b[0mfind\u001b[0m\u001b[0;34m(\u001b[0m\u001b[0;34m{\u001b[0m\u001b[0;34m'_id'\u001b[0m\u001b[0;34m:\u001b[0m \u001b[0mObjectId\u001b[0m\u001b[0;34m(\u001b[0m\u001b[0mindex_id\u001b[0m\u001b[0;34m)\u001b[0m\u001b[0;34m}\u001b[0m\u001b[0;34m)\u001b[0m\u001b[0;34m.\u001b[0m\u001b[0mnext\u001b[0m\u001b[0;34m(\u001b[0m\u001b[0;34m)\u001b[0m\u001b[0;34m\u001b[0m\u001b[0m\n\u001b[1;32m    138\u001b[0m     \u001b[0;32mexcept\u001b[0m \u001b[0mStopIteration\u001b[0m\u001b[0;34m:\u001b[0m\u001b[0;34m\u001b[0m\u001b[0m\n\u001b[0;32m--> 139\u001b[0;31m         \u001b[0;32mraise\u001b[0m \u001b[0mRuntimeError\u001b[0m\u001b[0;34m(\u001b[0m\u001b[0;34m'No entry with that id found'\u001b[0m\u001b[0;34m)\u001b[0m\u001b[0;34m\u001b[0m\u001b[0m\n\u001b[0m\u001b[1;32m    140\u001b[0m     \u001b[0;31m# Find metadata\u001b[0m\u001b[0;34m\u001b[0m\u001b[0;34m\u001b[0m\u001b[0m\n\u001b[1;32m    141\u001b[0m     mdata_entry = magresMetadata.find({'_id':\n",
      "\u001b[0;31mRuntimeError\u001b[0m: No entry with that id found"
     ]
    }
   ],
   "source": [
    "removeMagresFiles('5a6f0caf3207864b03da169a')"
   ]
  },
  {
   "cell_type": "code",
   "execution_count": 38,
   "metadata": {},
   "outputs": [
    {
     "name": "stdout",
     "output_type": "stream",
     "text": [
      "[{u'magresFilesID': ObjectId('5a6b61930c81be53f30a4470')}]\n"
     ]
    }
   ],
   "source": [
    "ff = ccpnc.magresMetadata.find({\"chemname\": \"thingNow\"})\n",
    "\n",
    "for f in ff:\n",
    "    print f['version_history']"
   ]
  },
  {
   "cell_type": "code",
   "execution_count": 19,
   "metadata": {},
   "outputs": [
    {
     "name": "stdout",
     "output_type": "stream",
     "text": [
      "{u'path': u'0000-0003-4851-1144', u'host': u'orcid.org', u'uri': u'http://orcid.org/0000-0003-4851-1144'}\n",
      "{u'path': u'0000-0003-4851-1144', u'host': u'orcid.org', u'uri': u'http://orcid.org/0000-0003-4851-1144'}\n",
      "{u'path': u'0000-0003-4851-1144', u'host': u'orcid.org', u'uri': u'http://orcid.org/0000-0003-4851-1144'}\n",
      "{u'path': u'0000-0003-4851-1144', u'host': u'orcid.org', u'uri': u'http://orcid.org/0000-0003-4851-1144'}\n"
     ]
    }
   ],
   "source": [
    "ff = ccpnc.magresData.find({\"orcid.path\": \"0000-0003-4851-1144\"})\n",
    "for f in ff:\n",
    "    print f['orcid']"
   ]
  },
  {
   "cell_type": "code",
   "execution_count": 6,
   "metadata": {
    "collapsed": true
   },
   "outputs": [],
   "source": [
    "from db_schema import magresDataSchema"
   ]
  },
  {
   "cell_type": "code",
   "execution_count": 12,
   "metadata": {},
   "outputs": [
    {
     "data": {
      "text/plain": [
       "{u'chemname': u'Ethanol (additional file)',\n",
       " 'csd-ref': {'digits': '01', 'refcode': 'C6H6OH'},\n",
       " u'doi': u'10.0001',\n",
       " u'orcid': {u'host': u'orcid.org',\n",
       "  u'path': u'0000-0003-4851-1144',\n",
       "  u'uri': u'http://orcid.org/0000-0003-4851-1144'},\n",
       " u'values': [{u'iso': [29.559937639131203,\n",
       "    30.22618664854139,\n",
       "    30.072254456072027,\n",
       "    26.953990818833876,\n",
       "    27.373946759128433,\n",
       "    31.888119371185127],\n",
       "   u'species': u'H'},\n",
       "  {u'iso': [156.1229153499832, 109.35753044488325], u'species': u'C'},\n",
       "  {u'iso': [267.0122765992025], u'species': u'O'}]}"
      ]
     },
     "execution_count": 12,
     "metadata": {},
     "output_type": "execute_result"
    }
   ],
   "source": [
    "d = f.copy()\n",
    "del d['_id']\n",
    "del d['magresFilesID']\n",
    "\n",
    "d['csd-ref'] = {\n",
    "    'refcode': 'C6H6OH',\n",
    "    'digits': '01'\n",
    "}\n",
    "\n",
    "magresDataSchema.validate(d)"
   ]
  },
  {
   "cell_type": "code",
   "execution_count": 8,
   "metadata": {
    "collapsed": true
   },
   "outputs": [],
   "source": [
    "import re"
   ]
  },
  {
   "cell_type": "code",
   "execution_count": 9,
   "metadata": {
    "collapsed": true
   },
   "outputs": [],
   "source": [
    "myre = re.compile('[0-9]{2}\\Z')"
   ]
  },
  {
   "cell_type": "code",
   "execution_count": 10,
   "metadata": {},
   "outputs": [
    {
     "data": {
      "text/plain": [
       "<_sre.SRE_Match at 0x7f3b280f3098>"
      ]
     },
     "execution_count": 10,
     "metadata": {},
     "output_type": "execute_result"
    }
   ],
   "source": [
    "myre.match('34')"
   ]
  },
  {
   "cell_type": "code",
   "execution_count": null,
   "metadata": {
    "collapsed": true
   },
   "outputs": [],
   "source": []
  }
 ],
 "metadata": {
  "kernelspec": {
   "display_name": "Python 2",
   "language": "python",
   "name": "python2"
  },
  "language_info": {
   "codemirror_mode": {
    "name": "ipython",
    "version": 2
   },
   "file_extension": ".py",
   "mimetype": "text/x-python",
   "name": "python",
   "nbconvert_exporter": "python",
   "pygments_lexer": "ipython2",
   "version": "2.7.13"
  }
 },
 "nbformat": 4,
 "nbformat_minor": 2
}
