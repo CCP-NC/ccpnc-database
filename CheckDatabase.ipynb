{
 "cells": [
  {
   "cell_type": "code",
   "execution_count": 95,
   "metadata": {},
   "outputs": [
    {
     "name": "stdout",
     "output_type": "stream",
     "text": [
      "The autoreload extension is already loaded. To reload it, use:\n",
      "  %reload_ext autoreload\n"
     ]
    }
   ],
   "source": [
    "%load_ext autoreload\n",
    "%autoreload 2\n",
    "\n",
    "import json\n",
    "from gridfs import GridFS, NoFile\n",
    "from flask import Flask\n",
    "from flask_cors import CORS, cross_origin\n",
    "from pymongo import MongoClient\n",
    "from bson.objectid import ObjectId\n",
    "from db_interface import addMagresFile, databaseSearch, removeMagresFiles"
   ]
  },
  {
   "cell_type": "code",
   "execution_count": 9,
   "metadata": {
    "collapsed": true
   },
   "outputs": [],
   "source": [
    "# MAGRES database\n",
    "client = MongoClient(host='wigner.esc.rl.ac.uk')\n",
    "ccpnc = client.ccpnc"
   ]
  },
  {
   "cell_type": "code",
   "execution_count": 35,
   "metadata": {
    "collapsed": true
   },
   "outputs": [],
   "source": [
    "magresFilesFS = GridFS(ccpnc, 'magresFilesFS')"
   ]
  },
  {
   "cell_type": "code",
   "execution_count": 84,
   "metadata": {},
   "outputs": [
    {
     "data": {
      "text/plain": [
       "ObjectId('5a70a9093207864b03da16b2')"
      ]
     },
     "execution_count": 84,
     "metadata": {},
     "output_type": "execute_result"
    }
   ],
   "source": [
    "new_id"
   ]
  },
  {
   "cell_type": "code",
   "execution_count": 94,
   "metadata": {},
   "outputs": [
    {
     "ename": "NoFile",
     "evalue": "no file in gridfs collection Collection(Database(MongoClient(host=['wigner.esc.rl.ac.uk:27017'], document_class=dict, tz_aware=False, connect=True), u'ccpnc'), u'magresFilesFS.files') with _id ObjectId('5a6f0c0c3207864b03da169a')",
     "output_type": "error",
     "traceback": [
      "\u001b[0;31m---------------------------------------------------------------------------\u001b[0m",
      "\u001b[0;31mNoFile\u001b[0m                                    Traceback (most recent call last)",
      "\u001b[0;32m<ipython-input-94-0f73f2df850a>\u001b[0m in \u001b[0;36m<module>\u001b[0;34m()\u001b[0m\n\u001b[0;32m----> 1\u001b[0;31m \u001b[0mgf\u001b[0m \u001b[0;34m=\u001b[0m \u001b[0mmagresFilesFS\u001b[0m\u001b[0;34m.\u001b[0m\u001b[0mget\u001b[0m\u001b[0;34m(\u001b[0m\u001b[0mObjectId\u001b[0m\u001b[0;34m(\u001b[0m\u001b[0;34m'5a6f0c0c3207864b03da169a'\u001b[0m\u001b[0;34m)\u001b[0m\u001b[0;34m)\u001b[0m\u001b[0;34m\u001b[0m\u001b[0m\n\u001b[0m",
      "\u001b[0;32m/home/wml08325/miniconda2/lib/python2.7/site-packages/gridfs/__init__.pyc\u001b[0m in \u001b[0;36mget\u001b[0;34m(self, file_id)\u001b[0m\n\u001b[1;32m    138\u001b[0m \u001b[0;34m\u001b[0m\u001b[0m\n\u001b[1;32m    139\u001b[0m         \u001b[0;31m# Raise NoFile now, instead of on first attribute access.\u001b[0m\u001b[0;34m\u001b[0m\u001b[0;34m\u001b[0m\u001b[0m\n\u001b[0;32m--> 140\u001b[0;31m         \u001b[0mgout\u001b[0m\u001b[0;34m.\u001b[0m\u001b[0m_ensure_file\u001b[0m\u001b[0;34m(\u001b[0m\u001b[0;34m)\u001b[0m\u001b[0;34m\u001b[0m\u001b[0m\n\u001b[0m\u001b[1;32m    141\u001b[0m         \u001b[0;32mreturn\u001b[0m \u001b[0mgout\u001b[0m\u001b[0;34m\u001b[0m\u001b[0m\n\u001b[1;32m    142\u001b[0m \u001b[0;34m\u001b[0m\u001b[0m\n",
      "\u001b[0;32m/home/wml08325/miniconda2/lib/python2.7/site-packages/gridfs/grid_file.pyc\u001b[0m in \u001b[0;36m_ensure_file\u001b[0;34m(self)\u001b[0m\n\u001b[1;32m    433\u001b[0m             \u001b[0;32mif\u001b[0m \u001b[0;32mnot\u001b[0m \u001b[0mself\u001b[0m\u001b[0;34m.\u001b[0m\u001b[0m_file\u001b[0m\u001b[0;34m:\u001b[0m\u001b[0;34m\u001b[0m\u001b[0m\n\u001b[1;32m    434\u001b[0m                 raise NoFile(\"no file in gridfs collection %r with _id %r\" %\n\u001b[0;32m--> 435\u001b[0;31m                              (self.__files, self.__file_id))\n\u001b[0m\u001b[1;32m    436\u001b[0m \u001b[0;34m\u001b[0m\u001b[0m\n\u001b[1;32m    437\u001b[0m     \u001b[0;32mdef\u001b[0m \u001b[0m__getattr__\u001b[0m\u001b[0;34m(\u001b[0m\u001b[0mself\u001b[0m\u001b[0;34m,\u001b[0m \u001b[0mname\u001b[0m\u001b[0;34m)\u001b[0m\u001b[0;34m:\u001b[0m\u001b[0;34m\u001b[0m\u001b[0m\n",
      "\u001b[0;31mNoFile\u001b[0m: no file in gridfs collection Collection(Database(MongoClient(host=['wigner.esc.rl.ac.uk:27017'], document_class=dict, tz_aware=False, connect=True), u'ccpnc'), u'magresFilesFS.files') with _id ObjectId('5a6f0c0c3207864b03da169a')"
     ]
    }
   ],
   "source": [
    "gf = magresFilesFS.get(ObjectId('5a6f0c0c3207864b03da169a'))"
   ]
  },
  {
   "cell_type": "code",
   "execution_count": 92,
   "metadata": {},
   "outputs": [
    {
     "name": "stdout",
     "output_type": "stream",
     "text": [
      "#$magres-abinitio-v1.0\n",
      "# See URL for format definition and code samples and libraries\n",
      "[calculation]\n",
      "calc_code CASTEP\n",
      "calc_code_version 6.1\n",
      "calc_code_hgversion 54e4ee5bcada+ magres-format 2012-09-04                                          \n",
      "calc_code_platform linux_x86_64_ifort12            \n",
      "calc_name ethanol\n",
      "calc_comment                                                                                 \n",
      "calc_xcfunctional PBE            \n",
      "calc_cutoffenergy          2.5000000000000000E+01\n",
      "calc_kpoint_mp_grid           -1          -1          -1\n",
      "calc_kpoint_mp_offset       0.00000000      0.00000000      0.00000000\n",
      "[/calculation]\n",
      "[atoms]\n",
      "units lattice Angstrom\n",
      "lattice    6.0000000000000009E+00   0.0000000000000000E+00   0.0000000000000000E+00   0.0000000000000000E+00   6.0000000000000009E+00   0.0000000000000000E+00   0.0000000000000000E+00   0.0000000000000000E+00   6.0000000000000009E+00\n",
      "units atom Angstrom\n",
      "atom H       H                  1          3.9805990000000007E+00          4.1783420000000007E+00          3.2950789999999999E+00\n",
      "atom H       H                  2          5.0333940000000004E+00          3.4304300000000003E+00          4.5047590000000008E+00\n",
      "atom H       H                  3          5.7190700000000012E+00          4.5522570000000000E+00          3.3153530000000009E+00\n",
      "atom H       H                  4          3.7202350000000006E+00          5.3295050000000010E+00          5.5099090000000004E+00\n",
      "atom H       H                  5          4.4121710000000007E+00          6.4335720000000007E+00          4.3170010000000012E+00\n",
      "atom H       H                  6          5.9116109999999997E+00          5.0322839999999998E+00          6.2422020000000007E+00\n",
      "atom C       C                  1          4.8469400000000009E+00          4.3506309999999999E+00          3.9411360000000002E+00\n",
      "atom C       C                  2          4.6030250000000006E+00          5.5187379999999999E+00          4.8825320000000012E+00\n",
      "atom O       O                  1          5.7462540000000013E+00          5.8127050000000011E+00          5.6871000000000009E+00\n",
      "[/atoms]\n",
      "[magres]\n",
      "units ms ppm\n",
      "ms H                  1          3.0275414382832704E+01          1.2343176147963255E+00          3.8055347702168261E+00          1.9319927686201195E+00          2.7549852274727169E+01          2.4936355990438019E+00          4.1246695670194242E+00          2.2382434391773800E+00          3.0854546259833729E+01\n",
      "ms H                  2          2.6965983864643054E+01         -3.8585624895769854E-01          7.4285824854937599E-01         -4.1196902839127542E-01          3.5292668226256616E+01         -1.8802552393259337E+00         -6.7122267950404291E-01         -1.3639578313254843E+00          2.8419907854724499E+01\n",
      "ms H                  3          2.9971223084896938E+01          8.3477502779773927E-01         -3.2689438749161925E+00         -5.7219252176672120E-01          2.7791184879829256E+01         -2.1461997294113141E-01         -3.6440239128383367E+00          3.7767506813290157E-02          3.2454355403489878E+01\n",
      "ms H                  4          3.2261642842180500E+01          6.2520948574546298E-01         -1.4918313319633616E+00          7.5053965528921041E-01          2.2658737518918223E+01          1.7257630753650515E+00         -1.6495892494737605E-01          2.0870476890698075E+00          2.5941592095402918E+01\n",
      "ms H                  5          2.5948305588592422E+01         -2.7316306883849486E+00          3.8807548928060029E+00         -1.8011484678760228E+00          2.9698619245848839E+01         -4.6789512034172942E-01          2.9480868200872661E+00         -1.3677707067034952E+00          2.6474915442944035E+01\n",
      "ms H                  6          2.8536732593448992E+01         -2.0217790318703996E+00          4.8738962044242289E+00         -3.4947137896321606E-01          3.2849570358829844E+01         -6.5479198378162398E+00          4.6010039021206746E+00         -5.8146999362447280E+00          3.4278055161276548E+01\n",
      "ms C                  1          1.4998628033046998E+02         -1.0199071049759386E+01         -8.4736870826874103E-02          2.3362956476235755E-01          1.6059638213098884E+02          2.3169348644807837E+01          7.5564002686506901E+00          1.5878380496240151E+01          1.5778608358849078E+02\n",
      "ms C                  2          1.3326536661448372E+02          3.2787517370578650E-01          3.0641881628898851E+01          3.6408749419944675E+00          8.6537759377111740E+01          1.3720991423773526E+01          3.3471610166046347E+01          1.2743115987611173E+01          1.0826946534305428E+02\n",
      "ms O                  1          2.4574869953866229E+02          4.8677155199684901E+00          2.3843699230434890E+01         -2.5684198667080988E+01          2.8842353056750665E+02         -2.1091258283138934E+01          1.8346324157049754E+01         -3.9130135989063421E+00          2.6686459969143857E+02\n",
      "units efg au\n",
      "efg H                  1          1.2824174928074769E-01          5.1533279626299250E-02          2.0271560432566516E-01          5.1533279626299250E-02         -1.3384523454962327E-01          4.1524039834195725E-02          2.0271560432566516E-01          4.1524039834195725E-02          5.6034852688758852E-03\n",
      "efg H                  2         -1.3429150138621171E-01         -6.1058500627424100E-02          3.7490533064466217E-02         -6.1058500627424100E-02          1.5800489708168630E-01         -1.8490576025354505E-01          3.7490533064466217E-02         -1.8490576025354505E-01         -2.3713395695491440E-02\n",
      "efg H                  3          1.3019310553236682E-01          6.5418217320377975E-02         -2.0154534071328412E-01          6.5418217320377975E-02         -1.2867919784095311E-01         -4.5518392870526128E-02         -2.0154534071328412E-01         -4.5518392870526128E-02         -1.5139076914136435E-03\n",
      "efg H                  4          1.2590890112869518E-01          6.0481522306915086E-02         -1.8418260342326664E-01          6.0481522306915086E-02         -1.3023095486922637E-01         -4.0756670643663118E-02         -1.8418260342326664E-01         -4.0756670643663118E-02          4.3220537405401771E-03\n",
      "efg H                  5         -1.2702743066412581E-01         -5.8459795690860322E-02          4.6840608973195613E-02         -5.8459795690860322E-02          1.5458299722761126E-01         -1.8490360649659154E-01          4.6840608973195613E-02         -1.8490360649659154E-01         -2.7555566563500472E-02\n",
      "efg H                  6         -1.9211539025247126E-01         -7.9845036104780054E-02          9.2700467935654507E-02         -7.9845036104780054E-02          2.0102091301946157E-01         -3.0988299261041341E-01          9.2700467935654507E-02         -3.0988299261041341E-01         -8.9055227669721515E-03\n",
      "efg C                  1         -1.7968112225897018E-02         -1.7900868522174464E-02         -2.9014587074312377E-04         -1.7900868522174464E-02          1.4042587572986195E-02          2.8447927120874295E-02         -2.9014587074312377E-04          2.8447927120874295E-02          3.9255246529066520E-03\n",
      "efg C                  2          1.8484516262727155E-01          6.5059058220552274E-02          2.7020279465713293E-01          6.5059058220552274E-02         -1.8133493016967944E-01          1.0607134136711407E-01          2.7020279465713293E-01          1.0607134136711407E-01         -3.5102324575957571E-03\n",
      "efg O                  1          1.0512444923508707E-01          1.4219754619773078E-01          1.5348904423838081E+00          1.4219754619773078E-01          2.4059947859283150E-02         -9.0388015117459597E-01          1.5348904423838081E+00         -9.0388015117459597E-01         -1.2918439709436885E-01\n",
      "[/magres]\n",
      "\n"
     ]
    }
   ],
   "source": [
    "print gf.read()"
   ]
  },
  {
   "cell_type": "code",
   "execution_count": 57,
   "metadata": {},
   "outputs": [
    {
     "name": "stdout",
     "output_type": "stream",
     "text": [
      "{u'chemname': u'thingNow', u'metadataID': u'5a6f0c0c3207864b03da1689', u'latest_version': {u'magresFilesID': u'5a6f0c0c3207864b03da168a'}, u'values': [{u'iso': [29.559937639131203, 30.22618664854139, 30.072254456072027, 26.953990818833876, 27.373946759128433, 31.888119371185127], u'species': u'H'}, {u'iso': [156.1229153499832, 109.35753044488325], u'species': u'C'}, {u'iso': [267.0122765992025], u'species': u'O'}], u'orcid': {u'path': u'0000-0003-4851-1144', u'host': u'orcid.org', u'uri': u'http://orcid.org/0000-0003-4851-1144'}, u'formula': [{u'species': u'C', u'n': 2}, {u'species': u'H', u'n': 6}, {u'species': u'O', u'n': 1}], u'_id': ObjectId('5a6f0c0c3207864b03da168c')}\n",
      "{u'chemname': u'thingNow', u'metadataID': u'5a6f0c853207864b03da1691', u'latest_version': {u'magresFilesID': u'5a6f0c853207864b03da1692'}, u'values': [{u'iso': [29.559937639131203, 30.22618664854139, 30.072254456072027, 26.953990818833876, 27.373946759128433, 31.888119371185127], u'species': u'H'}, {u'iso': [156.1229153499832, 109.35753044488325], u'species': u'C'}, {u'iso': [267.0122765992025], u'species': u'O'}], u'orcid': {u'path': u'0000-0003-4851-1144', u'host': u'orcid.org', u'uri': u'http://orcid.org/0000-0003-4851-1144'}, u'formula': [{u'species': u'C', u'n': 2}, {u'species': u'H', u'n': 6}, {u'species': u'O', u'n': 1}], u'_id': ObjectId('5a6f0c853207864b03da1694')}\n",
      "{u'chemname': u'thingNow', u'metadataID': u'5a6f0caf3207864b03da1697', u'latest_version': {u'doi': u'', u'magresFilesID': u'5a6f0caf3207864b03da1698'}, u'values': [{u'iso': [29.559937639131203, 30.22618664854139, 30.072254456072027, 26.953990818833876, 27.373946759128433, 31.888119371185127], u'species': u'H'}, {u'iso': [156.1229153499832, 109.35753044488325], u'species': u'C'}, {u'iso': [267.0122765992025], u'species': u'O'}], u'orcid': {u'path': u'0000-0003-4851-1144', u'host': u'orcid.org', u'uri': u'http://orcid.org/0000-0003-4851-1144'}, u'formula': [{u'species': u'C', u'n': 2}, {u'species': u'H', u'n': 6}, {u'species': u'O', u'n': 1}], u'_id': ObjectId('5a6f0caf3207864b03da169a')}\n"
     ]
    },
    {
     "data": {
      "text/plain": [
       "'[null, null, {\"chemname\": \"thingNow\", \"doi\": \"\"}]'"
      ]
     },
     "execution_count": 57,
     "metadata": {},
     "output_type": "execute_result"
    }
   ],
   "source": [
    "databaseSearch([{'type': 'orcid', 'args': {'orcid': '0000-0003-4851-1144'}}])"
   ]
  },
  {
   "cell_type": "code",
   "execution_count": 48,
   "metadata": {},
   "outputs": [
    {
     "data": {
      "text/plain": [
       "[u'magresFilesFS',\n",
       " u'magresFilesFS.chunks',\n",
       " u'magresData',\n",
       " u'magresIndex',\n",
       " u'magresFilesFS.files',\n",
       " u'magresFiles',\n",
       " u'magresMetadata']"
      ]
     },
     "execution_count": 48,
     "metadata": {},
     "output_type": "execute_result"
    }
   ],
   "source": [
    "ccpnc.collection_names()"
   ]
  },
  {
   "cell_type": "code",
   "execution_count": 81,
   "metadata": {},
   "outputs": [
    {
     "data": {
      "text/plain": [
       "1"
      ]
     },
     "execution_count": 81,
     "metadata": {},
     "output_type": "execute_result"
    }
   ],
   "source": [
    "mfile = open('tests/ethanol.magres').read()\n",
    "addMagresFile(mfile, chemname='thingNow', orcid={u'path': u'0000-0003-4851-1144', u'host': u'orcid.org', u'uri': u'http://orcid.org/0000-0003-4851-1144'})"
   ]
  },
  {
   "cell_type": "code",
   "execution_count": 25,
   "metadata": {
    "collapsed": true
   },
   "outputs": [],
   "source": [
    "def findById(fileID):\n",
    "    return ccpnc.magresFiles.find({'_id': ObjectId(fileID)})"
   ]
  },
  {
   "cell_type": "code",
   "execution_count": 75,
   "metadata": {
    "collapsed": true,
    "scrolled": false
   },
   "outputs": [],
   "source": [
    "ff = ccpnc.magresIndex.find({\"chemname\": \"thingNow\"})\n",
    "# Get the first magres file in the query\n",
    "mfiles = []\n",
    "for f in ff:\n",
    "    print f['_id']\n",
    "    print ccpnc.magresMetadata.find({'_id': ObjectId(f['metadataID'])}).next()"
   ]
  },
  {
   "cell_type": "code",
   "execution_count": 76,
   "metadata": {
    "collapsed": true
   },
   "outputs": [],
   "source": [
    "for f in ccpnc.magresIndex.find({'_id': ObjectId('5a6f0c0c3207864b03da168c')}):\n",
    "    print f"
   ]
  },
  {
   "cell_type": "code",
   "execution_count": 79,
   "metadata": {},
   "outputs": [
    {
     "ename": "RuntimeError",
     "evalue": "No entry with that id found",
     "output_type": "error",
     "traceback": [
      "\u001b[0;31m---------------------------------------------------------------------------\u001b[0m",
      "\u001b[0;31mRuntimeError\u001b[0m                              Traceback (most recent call last)",
      "\u001b[0;32m<ipython-input-79-371f9cb0fb37>\u001b[0m in \u001b[0;36m<module>\u001b[0;34m()\u001b[0m\n\u001b[0;32m----> 1\u001b[0;31m \u001b[0mremoveMagresFiles\u001b[0m\u001b[0;34m(\u001b[0m\u001b[0;34m'5a6f0caf3207864b03da169a'\u001b[0m\u001b[0;34m)\u001b[0m\u001b[0;34m\u001b[0m\u001b[0m\n\u001b[0m",
      "\u001b[0;32m/home/wml08325/Desktop/WebDevel/ccpnc-database/db_interface.py\u001b[0m in \u001b[0;36mremoveMagresFiles\u001b[0;34m(index_id)\u001b[0m\n\u001b[1;32m    137\u001b[0m         \u001b[0mindex_entry\u001b[0m \u001b[0;34m=\u001b[0m \u001b[0mmagresIndex\u001b[0m\u001b[0;34m.\u001b[0m\u001b[0mfind\u001b[0m\u001b[0;34m(\u001b[0m\u001b[0;34m{\u001b[0m\u001b[0;34m'_id'\u001b[0m\u001b[0;34m:\u001b[0m \u001b[0mObjectId\u001b[0m\u001b[0;34m(\u001b[0m\u001b[0mindex_id\u001b[0m\u001b[0;34m)\u001b[0m\u001b[0;34m}\u001b[0m\u001b[0;34m)\u001b[0m\u001b[0;34m.\u001b[0m\u001b[0mnext\u001b[0m\u001b[0;34m(\u001b[0m\u001b[0;34m)\u001b[0m\u001b[0;34m\u001b[0m\u001b[0m\n\u001b[1;32m    138\u001b[0m     \u001b[0;32mexcept\u001b[0m \u001b[0mStopIteration\u001b[0m\u001b[0;34m:\u001b[0m\u001b[0;34m\u001b[0m\u001b[0m\n\u001b[0;32m--> 139\u001b[0;31m         \u001b[0;32mraise\u001b[0m \u001b[0mRuntimeError\u001b[0m\u001b[0;34m(\u001b[0m\u001b[0;34m'No entry with that id found'\u001b[0m\u001b[0;34m)\u001b[0m\u001b[0;34m\u001b[0m\u001b[0m\n\u001b[0m\u001b[1;32m    140\u001b[0m     \u001b[0;31m# Find metadata\u001b[0m\u001b[0;34m\u001b[0m\u001b[0;34m\u001b[0m\u001b[0m\n\u001b[1;32m    141\u001b[0m     mdata_entry = magresMetadata.find({'_id':\n",
      "\u001b[0;31mRuntimeError\u001b[0m: No entry with that id found"
     ]
    }
   ],
   "source": [
    "removeMagresFiles('5a6f0caf3207864b03da169a')"
   ]
  },
  {
   "cell_type": "code",
   "execution_count": 38,
   "metadata": {},
   "outputs": [
    {
     "name": "stdout",
     "output_type": "stream",
     "text": [
      "[{u'magresFilesID': ObjectId('5a6b61930c81be53f30a4470')}]\n"
     ]
    }
   ],
   "source": [
    "ff = ccpnc.magresMetadata.find({\"chemname\": \"thingNow\"})\n",
    "\n",
    "for f in ff:\n",
    "    print f['version_history']"
   ]
  },
  {
   "cell_type": "code",
   "execution_count": 19,
   "metadata": {},
   "outputs": [
    {
     "name": "stdout",
     "output_type": "stream",
     "text": [
      "{u'path': u'0000-0003-4851-1144', u'host': u'orcid.org', u'uri': u'http://orcid.org/0000-0003-4851-1144'}\n",
      "{u'path': u'0000-0003-4851-1144', u'host': u'orcid.org', u'uri': u'http://orcid.org/0000-0003-4851-1144'}\n",
      "{u'path': u'0000-0003-4851-1144', u'host': u'orcid.org', u'uri': u'http://orcid.org/0000-0003-4851-1144'}\n",
      "{u'path': u'0000-0003-4851-1144', u'host': u'orcid.org', u'uri': u'http://orcid.org/0000-0003-4851-1144'}\n"
     ]
    }
   ],
   "source": [
    "ff = ccpnc.magresData.find({\"orcid.path\": \"0000-0003-4851-1144\"})\n",
    "for f in ff:\n",
    "    print f['orcid']"
   ]
  },
  {
   "cell_type": "code",
   "execution_count": 6,
   "metadata": {
    "collapsed": true
   },
   "outputs": [],
   "source": [
    "from db_schema import magresDataSchema"
   ]
  },
  {
   "cell_type": "code",
   "execution_count": 12,
   "metadata": {},
   "outputs": [
    {
     "data": {
      "text/plain": [
       "{u'chemname': u'Ethanol (additional file)',\n",
       " 'csd-ref': {'digits': '01', 'refcode': 'C6H6OH'},\n",
       " u'doi': u'10.0001',\n",
       " u'orcid': {u'host': u'orcid.org',\n",
       "  u'path': u'0000-0003-4851-1144',\n",
       "  u'uri': u'http://orcid.org/0000-0003-4851-1144'},\n",
       " u'values': [{u'iso': [29.559937639131203,\n",
       "    30.22618664854139,\n",
       "    30.072254456072027,\n",
       "    26.953990818833876,\n",
       "    27.373946759128433,\n",
       "    31.888119371185127],\n",
       "   u'species': u'H'},\n",
       "  {u'iso': [156.1229153499832, 109.35753044488325], u'species': u'C'},\n",
       "  {u'iso': [267.0122765992025], u'species': u'O'}]}"
      ]
     },
     "execution_count": 12,
     "metadata": {},
     "output_type": "execute_result"
    }
   ],
   "source": [
    "d = f.copy()\n",
    "del d['_id']\n",
    "del d['magresFilesID']\n",
    "\n",
    "d['csd-ref'] = {\n",
    "    'refcode': 'C6H6OH',\n",
    "    'digits': '01'\n",
    "}\n",
    "\n",
    "magresDataSchema.validate(d)"
   ]
  },
  {
   "cell_type": "code",
   "execution_count": 8,
   "metadata": {
    "collapsed": true
   },
   "outputs": [],
   "source": [
    "import re"
   ]
  },
  {
   "cell_type": "code",
   "execution_count": 9,
   "metadata": {
    "collapsed": true
   },
   "outputs": [],
   "source": [
    "myre = re.compile('[0-9]{2}\\Z')"
   ]
  },
  {
   "cell_type": "code",
   "execution_count": 10,
   "metadata": {},
   "outputs": [
    {
     "data": {
      "text/plain": [
       "<_sre.SRE_Match at 0x7f3b280f3098>"
      ]
     },
     "execution_count": 10,
     "metadata": {},
     "output_type": "execute_result"
    }
   ],
   "source": [
    "myre.match('34')"
   ]
  },
  {
   "cell_type": "code",
   "execution_count": null,
   "metadata": {
    "collapsed": true
   },
   "outputs": [],
   "source": []
  }
 ],
 "metadata": {
  "kernelspec": {
   "display_name": "Python 2",
   "language": "python",
   "name": "python2"
  },
  "language_info": {
   "codemirror_mode": {
    "name": "ipython",
    "version": 2
   },
   "file_extension": ".py",
   "mimetype": "text/x-python",
   "name": "python",
   "nbconvert_exporter": "python",
   "pygments_lexer": "ipython2",
   "version": "2.7.13"
  }
 },
 "nbformat": 4,
 "nbformat_minor": 2
}
