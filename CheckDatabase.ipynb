{
 "cells": [
  {
   "cell_type": "code",
   "execution_count": 1,
   "metadata": {
    "collapsed": true
   },
   "outputs": [],
   "source": [
    "%load_ext autoreload\n",
    "%autoreload 2\n",
    "\n",
    "import json\n",
    "from flask import Flask\n",
    "from flask_cors import CORS, cross_origin\n",
    "from pymongo import MongoClient\n",
    "from bson.objectid import ObjectId"
   ]
  },
  {
   "cell_type": "code",
   "execution_count": 2,
   "metadata": {
    "collapsed": true
   },
   "outputs": [],
   "source": [
    "# MAGRES database\n",
    "client = MongoClient(host='wigner.esc.rl.ac.uk')\n",
    "ccpnc = client.ccpnc"
   ]
  },
  {
   "cell_type": "code",
   "execution_count": 3,
   "metadata": {
    "collapsed": true
   },
   "outputs": [],
   "source": [
    "def findById(fileID):\n",
    "    return ccpnc.magresFiles.find({'_id': ObjectId(fileID)})"
   ]
  },
  {
   "cell_type": "code",
   "execution_count": 4,
   "metadata": {
    "scrolled": false
   },
   "outputs": [
    {
     "name": "stdout",
     "output_type": "stream",
     "text": [
      "Ethanol\n"
     ]
    }
   ],
   "source": [
    "ff = ccpnc.magresData.find({\"chemname\": \"Ethanol\"})\n",
    "# Get the first magres file in the query\n",
    "mfiles = []\n",
    "for f in ff:\n",
    "    print f['chemname']\n",
    "    mfile = findById(f['magresFilesID'])\n",
    "    for m in mfile:\n",
    "        mfiles.append(m['magres'])"
   ]
  },
  {
   "cell_type": "code",
   "execution_count": 5,
   "metadata": {},
   "outputs": [
    {
     "name": "stdout",
     "output_type": "stream",
     "text": [
      "{u'path': u'0000-0003-4851-1144', u'host': u'orcid.org', u'uri': u'http://orcid.org/0000-0003-4851-1144'}\n",
      "{u'path': u'0000-0003-4851-1144', u'host': u'orcid.org', u'uri': u'http://orcid.org/0000-0003-4851-1144'}\n",
      "{u'path': u'0000-0003-4851-1144', u'host': u'orcid.org', u'uri': u'http://orcid.org/0000-0003-4851-1144'}\n",
      "{u'path': u'0000-0003-4851-1144', u'host': u'orcid.org', u'uri': u'http://orcid.org/0000-0003-4851-1144'}\n"
     ]
    }
   ],
   "source": [
    "ff = ccpnc.magresData.find({\"orcid.path\": \"0000-0003-4851-1144\"})\n",
    "for f in ff:\n",
    "    print f['orcid']"
   ]
  },
  {
   "cell_type": "code",
   "execution_count": 6,
   "metadata": {
    "collapsed": true
   },
   "outputs": [],
   "source": [
    "from db_schema import magresDataSchema"
   ]
  },
  {
   "cell_type": "code",
   "execution_count": 12,
   "metadata": {},
   "outputs": [
    {
     "data": {
      "text/plain": [
       "{u'chemname': u'Ethanol (additional file)',\n",
       " 'csd-ref': {'digits': '01', 'refcode': 'C6H6OH'},\n",
       " u'doi': u'10.0001',\n",
       " u'orcid': {u'host': u'orcid.org',\n",
       "  u'path': u'0000-0003-4851-1144',\n",
       "  u'uri': u'http://orcid.org/0000-0003-4851-1144'},\n",
       " u'values': [{u'iso': [29.559937639131203,\n",
       "    30.22618664854139,\n",
       "    30.072254456072027,\n",
       "    26.953990818833876,\n",
       "    27.373946759128433,\n",
       "    31.888119371185127],\n",
       "   u'species': u'H'},\n",
       "  {u'iso': [156.1229153499832, 109.35753044488325], u'species': u'C'},\n",
       "  {u'iso': [267.0122765992025], u'species': u'O'}]}"
      ]
     },
     "execution_count": 12,
     "metadata": {},
     "output_type": "execute_result"
    }
   ],
   "source": [
    "d = f.copy()\n",
    "del d['_id']\n",
    "del d['magresFilesID']\n",
    "\n",
    "d['csd-ref'] = {\n",
    "    'refcode': 'C6H6OH',\n",
    "    'digits': '01'\n",
    "}\n",
    "\n",
    "magresDataSchema.validate(d)"
   ]
  },
  {
   "cell_type": "code",
   "execution_count": 8,
   "metadata": {
    "collapsed": true
   },
   "outputs": [],
   "source": [
    "import re"
   ]
  },
  {
   "cell_type": "code",
   "execution_count": 9,
   "metadata": {
    "collapsed": true
   },
   "outputs": [],
   "source": [
    "myre = re.compile('[0-9]{2}\\Z')"
   ]
  },
  {
   "cell_type": "code",
   "execution_count": 10,
   "metadata": {},
   "outputs": [
    {
     "data": {
      "text/plain": [
       "<_sre.SRE_Match at 0x7f3b280f3098>"
      ]
     },
     "execution_count": 10,
     "metadata": {},
     "output_type": "execute_result"
    }
   ],
   "source": [
    "myre.match('34')"
   ]
  },
  {
   "cell_type": "code",
   "execution_count": null,
   "metadata": {
    "collapsed": true
   },
   "outputs": [],
   "source": []
  }
 ],
 "metadata": {
  "kernelspec": {
   "display_name": "Python 2",
   "language": "python",
   "name": "python2"
  },
  "language_info": {
   "codemirror_mode": {
    "name": "ipython",
    "version": 2
   },
   "file_extension": ".py",
   "mimetype": "text/x-python",
   "name": "python",
   "nbconvert_exporter": "python",
   "pygments_lexer": "ipython2",
   "version": "2.7.13"
  }
 },
 "nbformat": 4,
 "nbformat_minor": 2
}
