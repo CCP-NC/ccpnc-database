{
 "cells": [
  {
   "cell_type": "code",
   "execution_count": 119,
   "metadata": {},
   "outputs": [
    {
     "name": "stdout",
     "output_type": "stream",
     "text": [
      "The autoreload extension is already loaded. To reload it, use:\n",
      "  %reload_ext autoreload\n"
     ]
    }
   ],
   "source": [
    "%load_ext autoreload\n",
    "%autoreload 2\n",
    "\n",
    "import sys\n",
    "import json\n",
    "import re\n",
    "from datetime import datetime\n",
    "from gridfs import GridFS, NoFile\n",
    "from pymongo import MongoClient\n",
    "from bson.objectid import ObjectId\n",
    "from schema import *\n",
    "\n",
    "sys.path.append('../')\n",
    "\n",
    "from db_interface import addMagresFile, databaseSearch, removeMagresFiles, editMagresFile\n",
    "from db_schema import magresVersionSchema, magresIndexSchema, magresMetadataSchema"
   ]
  },
  {
   "cell_type": "markdown",
   "metadata": {},
   "source": [
    "### Operating on the database\n",
    "\n",
    "This databook is meant for admin operations on the database and testing of new changes. Important: do *not* use carelessly, because permanent data loss is a very real possibility.\n",
    "\n",
    "There are two options for usage, and the default is to use a local copy of the database. This works by having MongoDB installed and simply running a `mongod` instance in another terminal. In that case, testing can be freely done on a simple toy database. If `use_local` is set to `False`, though, the connection is established with the remote database, and all changes will be permanent. Double check all your code before running it!"
   ]
  },
  {
   "cell_type": "code",
   "execution_count": 2,
   "metadata": {},
   "outputs": [],
   "source": [
    "use_local = True\n",
    "\n",
    "if use_local:\n",
    "    db_url = 'localhost'\n",
    "    db_port = 27017\n",
    "else:\n",
    "    db_url = ''\n",
    "    db_port = 27017\n",
    "    \n",
    "client = MongoClient(host=db_url, port=db_port)\n",
    "ccpnc = client.ccpnc\n",
    "magresIndex = ccpnc.magresIndex\n",
    "magresMetadata = ccpnc.magresMetadata\n",
    "magresFilesFS = GridFS(ccpnc, 'magresFilesFS')"
   ]
  },
  {
   "cell_type": "code",
   "execution_count": 3,
   "metadata": {},
   "outputs": [],
   "source": [
    "def listAllKeys():\n",
    "    f = magresIndex.find({}).next()\n",
    "    print(f.keys())"
   ]
  },
  {
   "cell_type": "code",
   "execution_count": 4,
   "metadata": {},
   "outputs": [],
   "source": [
    "def listAllFiles(keys=None, validate=False):\n",
    "    \"\"\"\n",
    "    List and print all files in the database. \n",
    "    \n",
    "    | Args:\n",
    "    |    keys [list]: if present, print only the values of the keys listed here, in tabulated form.\n",
    "    |    validate [bool]: if True, also check whether the index voices are valid according to the schema\n",
    "    \n",
    "    \"\"\"\n",
    "    if keys is not None:\n",
    "        print('\\t'.join(keys))\n",
    "    for f in magresIndex.find({}):\n",
    "        line = ''\n",
    "        if keys is None:\n",
    "            line = str(f)\n",
    "        else:\n",
    "            line = '\\t'.join([str(f[k]) for k in keys])\n",
    "        if validate:\n",
    "            val = 'Valid'\n",
    "            try:\n",
    "                fc = dict(f) \n",
    "                del(fc['_id']) # Not included in the schema\n",
    "                magresIndexSchema.validate(fc)\n",
    "            except Exception as e:\n",
    "                val = 'Not valid ({0})'.format(e)\n",
    "            line += '\\t' + val\n",
    "        print(line)"
   ]
  },
  {
   "cell_type": "code",
   "execution_count": 194,
   "metadata": {},
   "outputs": [],
   "source": [
    "def updateWithSchema(defaults={}):\n",
    "    \"\"\"\n",
    "    Update any invalid index or metadata by removing excess keys, and filling missing keys with default values,\n",
    "    following the schema as reference.\n",
    "    If default values for missing keys are not provided throws an error.\n",
    "    \n",
    "    Returns a list of index_id for each edited record\n",
    "    \"\"\"\n",
    "    \n",
    "    missr = re.compile(\"Missing key: '([a-zA-Z0-9]+)'\")\n",
    "    \n",
    "    edited_ids = []\n",
    "    \n",
    "    for f in magresIndex.find({}):\n",
    "        edited = False\n",
    "        valid = False\n",
    "        while not valid:\n",
    "            fc = dict(f) \n",
    "            del(fc['_id']) # Not included in the schema\n",
    "            try:\n",
    "                magresIndexSchema.validate(fc)\n",
    "            except SchemaMissingKeyError as e:\n",
    "                # Add the missing key\n",
    "                mk = missr.findall(str(e))[0]\n",
    "                try:\n",
    "                    magresIndex.update_one({'_id': f['_id']}, {'$set': {mk: defaults[mk]}})\n",
    "                except KeyError:\n",
    "                    raise ValueError('No defaults provided for keyword {0}'.format(mk))\n",
    "                f[mk] = defaults[mk]\n",
    "                edited = True\n",
    "                continue\n",
    "            except SchemaWrongKeyError as e:\n",
    "                # Just remove the wrong key\n",
    "                magresIndex.update_one({'_id': f['_id']}, {'$unset': {mk: None}})\n",
    "                del(f[mk])\n",
    "                edited = True\n",
    "                continue\n",
    "            valid = True\n",
    "            \n",
    "        # Same for Metadata\n",
    "        valid = False\n",
    "        md_id =  ObjectId(f['metadataID'])\n",
    "        md = magresMetadata.find_one({'_id': md_id})\n",
    "        while not valid:\n",
    "            mfc = dict(md)\n",
    "            del(mfc['_id']) # Not included in the schema\n",
    "            try:\n",
    "                magresMetadataSchema.validate(mfc)\n",
    "            except SchemaMissingKeyError as e:\n",
    "                # Add the missing key\n",
    "                mk = missr.findall(str(e))[0]\n",
    "                try:\n",
    "                    if defaults[mk] != f[mk]:\n",
    "                        raise RuntimeError('Incompatible values for keyword {0} between Index and Metadata'.format(mk))\n",
    "                    magresMetadata.update_one({'_id': md_id}, {'$set': {mk: defaults[mk]}})\n",
    "                except KeyError:\n",
    "                    raise ValueError('No defaults provided for keyword {0}'.format(mk))\n",
    "                md[mk] = defaults[mk]\n",
    "                edited = True\n",
    "                continue\n",
    "            except SchemaWrongKeyError as e:\n",
    "                # Just remove the wrong key\n",
    "                magresMetadata.update_one({'_id': md_id}, {'$unset': {mk: None}})\n",
    "                del(md[mk])\n",
    "                edited = True\n",
    "                continue\n",
    "            valid = True\n",
    "        if edited:\n",
    "            edited_ids.append(f['_id'])\n",
    "    \n",
    "    return edited_ids"
   ]
  }
 ],
 "metadata": {
  "kernelspec": {
   "display_name": "Python 3",
   "language": "python",
   "name": "python3"
  },
  "language_info": {
   "codemirror_mode": {
    "name": "ipython",
    "version": 3
   },
   "file_extension": ".py",
   "mimetype": "text/x-python",
   "name": "python",
   "nbconvert_exporter": "python",
   "pygments_lexer": "ipython3",
   "version": "3.6.8"
  }
 },
 "nbformat": 4,
 "nbformat_minor": 2
}
