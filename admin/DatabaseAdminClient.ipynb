{
 "cells": [
  {
   "cell_type": "code",
   "execution_count": 1,
   "metadata": {},
   "outputs": [],
   "source": [
    "%load_ext autoreload\n",
    "%autoreload 2\n",
    "\n",
    "import sys\n",
    "import json\n",
    "import re\n",
    "from datetime import datetime\n",
    "from gridfs import GridFS, NoFile\n",
    "from pymongo import MongoClient\n",
    "from bson.objectid import ObjectId\n",
    "\n",
    "sys.path.append('../')\n",
    "\n",
    "from db_interface import addMagresFile, databaseSearch, removeMagresFiles, editMagresFile\n",
    "from db_schema import magresVersionSchema, magresIndexSchema"
   ]
  },
  {
   "cell_type": "markdown",
   "metadata": {},
   "source": [
    "### Operating on the database\n",
    "\n",
    "This databook is meant for admin operations on the database and testing of new changes. Important: do *not* use carelessly, because permanent data loss is a very real possibility.\n",
    "\n",
    "There are two options for usage, and the default is to use a local copy of the database. This works by having MongoDB installed and simply running a `mongod` instance in another terminal. In that case, testing can be freely done on a simple toy database. If `use_local` is set to `False`, though, the connection is established with the remote database, and all changes will be permanent. Double check all your code before running it!"
   ]
  },
  {
   "cell_type": "code",
   "execution_count": 2,
   "metadata": {},
   "outputs": [],
   "source": [
    "use_local = True\n",
    "\n",
    "if use_local:\n",
    "    db_url = 'localhost'\n",
    "    db_port = 27017\n",
    "else:\n",
    "    db_url = ''\n",
    "    db_port = 27017\n",
    "    \n",
    "client = MongoClient(host=db_url, port=db_port)\n",
    "ccpnc = client.ccpnc\n",
    "magresIndex = ccpnc.magresIndex\n",
    "magresMetadata = ccpnc.magresMetadata\n",
    "magresFilesFS = GridFS(ccpnc, 'magresFilesFS')"
   ]
  },
  {
   "cell_type": "code",
   "execution_count": 3,
   "metadata": {},
   "outputs": [],
   "source": [
    "def listAllKeys():\n",
    "    f = magresIndex.find({}).next()\n",
    "    print(f.keys())"
   ]
  },
  {
   "cell_type": "code",
   "execution_count": 4,
   "metadata": {},
   "outputs": [],
   "source": [
    "def listAllFiles(keys=None, validate=False):\n",
    "    if keys is not None:\n",
    "        print('\\t'.join(keys))\n",
    "    for f in magresIndex.find({}):\n",
    "        line = ''\n",
    "        if keys is None:\n",
    "            line = str(f)\n",
    "        else:\n",
    "            line = '\\t'.join([str(f[k]) for k in keys])\n",
    "        if validate:\n",
    "            val = 'Valid'\n",
    "            try:\n",
    "                fc = dict(f) \n",
    "                del(fc['_id']) # Not included in the schema\n",
    "                magresIndexSchema.validate(fc)\n",
    "            except Exception as e:\n",
    "                val = 'Not valid ({0})'.format(e)\n",
    "            line += '\\t' + val\n",
    "        print(line)"
   ]
  },
  {
   "cell_type": "code",
   "execution_count": 7,
   "metadata": {},
   "outputs": [
    {
     "name": "stdout",
     "output_type": "stream",
     "text": [
      "chemname\n",
      "Ala\tNot valid (Missing keys: 'chemform', 'license')\n",
      "Ala2\tNot valid (Missing keys: 'chemform', 'license')\n",
      "Thing\tNot valid (Missing keys: 'chemform', 'license')\n",
      "Ethanol\tNot valid (Missing keys: 'chemform', 'license')\n",
      "Test\tValid\n"
     ]
    }
   ],
   "source": [
    "listAllFiles(['chemname'], True)"
   ]
  },
  {
   "cell_type": "code",
   "execution_count": null,
   "metadata": {},
   "outputs": [],
   "source": []
  }
 ],
 "metadata": {
  "kernelspec": {
   "display_name": "Python 3",
   "language": "python",
   "name": "python3"
  },
  "language_info": {
   "codemirror_mode": {
    "name": "ipython",
    "version": 3
   },
   "file_extension": ".py",
   "mimetype": "text/x-python",
   "name": "python",
   "nbconvert_exporter": "python",
   "pygments_lexer": "ipython3",
   "version": "3.6.8"
  }
 },
 "nbformat": 4,
 "nbformat_minor": 2
}
